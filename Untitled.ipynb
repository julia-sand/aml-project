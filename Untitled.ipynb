{
 "cells": [
  {
   "cell_type": "code",
   "execution_count": 24,
   "metadata": {},
   "outputs": [],
   "source": [
    "import pandas as pd\n",
    "import numpy as np\n",
    "from sklearn.model_selection import train_test_split, GridSearchCV\n",
    "from sklearn.naive_bayes import GaussianNB,BernoulliNB,ComplementNB,MultinomialNB\n",
    "from sklearn.metrics import accuracy_score\n",
    "from sklearn.linear_model import LogisticRegression, Perceptron\n",
    "#from google.colab import files\n",
    "from sklearn import preprocessing \n",
    "from sklearn.feature_selection import chi2,SelectKBest\n",
    "import matplotlib.pyplot as plt\n",
    "from sklearn.decomposition import PCA\n",
    "import seaborn as sns\n",
    "from sklearn.ensemble import AdaBoostClassifier\n",
    "from sklearn.svm import LinearSVC\n",
    "from sklearn.feature_extraction.text import TfidfTransformer\n",
    "\n",
    "%run -i \"preprocess.py\""
   ]
  },
  {
   "cell_type": "code",
   "execution_count": 32,
   "metadata": {},
   "outputs": [],
   "source": [
    "from sklearn.feature_extraction.text import TfidfTransformer\n",
    "\n",
    "train_fake_bow_url = \"train_fake_bow.csv\"\n",
    "train_true_bow_url = \"train_true_bow.csv\"\n",
    "\n",
    "tfidf = TfidfTransformer()\n",
    "#test data\n",
    "test_url = \"test_bow.csv\"\n",
    "test_data = pd.read_csv(test_url, header=None, sep=\",\")\n",
    "test_data = tfidf.fit_transform(test_data)\n",
    "test_df = pd.DataFrame(test_data.todense())\n",
    "\n",
    "train_fake_data = pd.read_csv(train_fake_bow_url, header=None, sep=\",\")\n",
    "train_fake_data = tfidf.fit_transform(train_fake_data)\n",
    "train_fake_df = pd.DataFrame(train_fake_data.todense())\n",
    "\n",
    "train_true_data = pd.read_csv(train_true_bow_url, header=None, sep=\",\")\n",
    "train_true_data = tfidf.fit_transform(train_true_data)\n",
    "train_true_df = pd.DataFrame(train_true_data.todense())\n",
    "\n",
    "Class_fake = np.zeros(len(train_fake_df)).astype(int)\n",
    "Class_true = np.ones(len(train_true_df)).astype(int)\n",
    "\n",
    "train_fake_df[\"Class\"] = Class_fake\n",
    "train_true_df[\"Class\"] = Class_true\n",
    "\n",
    "train_df = train_fake_df.append(train_true_df,ignore_index=True)\n",
    "\n",
    "X = train_df.iloc[:,:-1].values\n",
    "X_unseen = test_df.values\n",
    "\n",
    "y = train_df.Class.values\n",
    "y_minus = np.where(y == 1,1,-1)\n",
    "\n",
    "X_train, X_test, y_train, y_test = train_test_split(X, \n",
    "                                                    y, \n",
    "                                                    test_size=0.4, \n",
    "                                                    random_state=13,\n",
    "                                                    stratify=y)\n",
    "\n",
    "y_train_minus = np.where(y_train == 1,1,-1)\n",
    "y_test_minus = np.where(y_test == 1,1,-1)"
   ]
  },
  {
   "cell_type": "code",
   "execution_count": 31,
   "metadata": {},
   "outputs": [
    {
     "data": {
      "text/html": [
       "<div>\n",
       "<style scoped>\n",
       "    .dataframe tbody tr th:only-of-type {\n",
       "        vertical-align: middle;\n",
       "    }\n",
       "\n",
       "    .dataframe tbody tr th {\n",
       "        vertical-align: top;\n",
       "    }\n",
       "\n",
       "    .dataframe thead th {\n",
       "        text-align: right;\n",
       "    }\n",
       "</style>\n",
       "<table border=\"1\" class=\"dataframe\">\n",
       "  <thead>\n",
       "    <tr style=\"text-align: right;\">\n",
       "      <th></th>\n",
       "      <th>0</th>\n",
       "      <th>Class</th>\n",
       "    </tr>\n",
       "  </thead>\n",
       "  <tbody>\n",
       "    <tr>\n",
       "      <th>0</th>\n",
       "      <td>(0, 1993)\\t0.1802671471272398\\n  (0, 1982)\\t...</td>\n",
       "      <td>1</td>\n",
       "    </tr>\n",
       "    <tr>\n",
       "      <th>1</th>\n",
       "      <td>(0, 1962)\\t0.24542988746111152\\n  (0, 1909)\\...</td>\n",
       "      <td>1</td>\n",
       "    </tr>\n",
       "    <tr>\n",
       "      <th>2</th>\n",
       "      <td>(0, 1933)\\t0.277871589660909\\n  (0, 1775)\\t0...</td>\n",
       "      <td>1</td>\n",
       "    </tr>\n",
       "    <tr>\n",
       "      <th>3</th>\n",
       "      <td>(0, 1997)\\t0.2692564048580432\\n  (0, 1995)\\t...</td>\n",
       "      <td>1</td>\n",
       "    </tr>\n",
       "    <tr>\n",
       "      <th>4</th>\n",
       "      <td>(0, 1999)\\t0.1434512230850552\\n  (0, 1899)\\t...</td>\n",
       "      <td>1</td>\n",
       "    </tr>\n",
       "  </tbody>\n",
       "</table>\n",
       "</div>"
      ],
      "text/plain": [
       "                                                   0  Class\n",
       "0    (0, 1993)\\t0.1802671471272398\\n  (0, 1982)\\t...      1\n",
       "1    (0, 1962)\\t0.24542988746111152\\n  (0, 1909)\\...      1\n",
       "2    (0, 1933)\\t0.277871589660909\\n  (0, 1775)\\t0...      1\n",
       "3    (0, 1997)\\t0.2692564048580432\\n  (0, 1995)\\t...      1\n",
       "4    (0, 1999)\\t0.1434512230850552\\n  (0, 1899)\\t...      1"
      ]
     },
     "execution_count": 31,
     "metadata": {},
     "output_type": "execute_result"
    }
   ],
   "source": [
    "train_true_df.head()"
   ]
  },
  {
   "cell_type": "code",
   "execution_count": 33,
   "metadata": {},
   "outputs": [
    {
     "name": "stdout",
     "output_type": "stream",
     "text": [
      "0.0026061888375363443\n",
      "0.0024367417868171037\n",
      "0.0026814290843389854\n",
      "output ready\n"
     ]
    }
   ],
   "source": [
    "from sklearn.neural_network import MLPClassifier\n",
    "\n",
    "m = MLPClassifier(hidden_layer_sizes = (100,), solver= \"adam\")\n",
    "                  #early_stopping=True,warm_start=True)\n",
    "\n",
    "#train over 3 epochs\n",
    "for i in range(1,4):\n",
    "    m.fit(X,y_minus)\n",
    "    print(m.loss_)\n",
    "    \n",
    "y_pred_nn = m.predict(X_unseen)\n",
    "\n",
    "y_pred_nn_output = np.where(y_pred_nn==1,1,0)\n",
    "#formatting\n",
    "y_unseen_pred_df = pd.DataFrame(y_pred_nn_output,columns=[\"Category\"])\n",
    "y_unseen_pred_df.index += 1\n",
    "y_unseen_pred_df.index.name = \"Id\"\n",
    "y_unseen_pred_df.Category = y_unseen_pred_df.Category.astype(int)\n",
    "\n",
    "y_unseen_pred_df.to_csv(\"output.csv\")\n",
    "\n",
    "print(\"output ready\")"
   ]
  },
  {
   "cell_type": "code",
   "execution_count": 34,
   "metadata": {},
   "outputs": [],
   "source": [
    "#retrain on all train data\n",
    "model = AdaBoostClassifier(GaussianNB(),n_estimators=1,learning_rate=0.35)\n",
    "model.fit(X,y_minus)\n",
    "y_pred_boost_nb = model.predict(X_unseen)\n",
    "\n",
    "model = AdaBoostClassifier(LinearSVC(),algorithm=\"SAMME\")\n",
    "model.fit(X,y_minus)\n",
    "y_pred_linsvc = model.predict(X_unseen)\n",
    "\n",
    "model = AdaBoostClassifier(Perceptron(),n_estimators=10,learning_rate=0.3,algorithm=\"SAMME\")\n",
    "model.fit(X,y_minus)\n",
    "y_pred_boost_perceptron = model.predict(X_unseen)\n",
    "\n",
    "y_pred_ensemble = np.zeros(len(y_pred_boost_nb))\n",
    "\n",
    "#majority vote\n",
    "for i in range(len(y_pred_boost_nb)):\n",
    "    if y_pred_boost_perceptron[i] + y_pred_linsvc[i] + y_pred_boost_nb[i] > 0: \n",
    "        y_pred_ensemble[i] = 1\n",
    "    else:  y_pred_ensemble[i] = 0\n",
    "\n",
    "#formatting\n",
    "y_unseen_pred_df = pd.DataFrame(y_pred_ensemble,columns=[\"Category\"])\n",
    "y_unseen_pred_df.index += 1\n",
    "y_unseen_pred_df.index.name = \"Id\"\n",
    "y_unseen_pred_df.Category = y_unseen_pred_df.Category.astype(int)\n",
    "\n",
    "y_unseen_pred_df.to_csv(\"output.csv\")\n"
   ]
  },
  {
   "cell_type": "code",
   "execution_count": 22,
   "metadata": {},
   "outputs": [],
   "source": [
    "y_pred_linsvc_output = np.where(y_pred_boost_perceptron==1,1,0)\n",
    "#formatting\n",
    "y_unseen_pred_df = pd.DataFrame(y_pred_linsvc_output,columns=[\"Category\"])\n",
    "y_unseen_pred_df.index += 1\n",
    "y_unseen_pred_df.index.name = \"Id\"\n",
    "y_unseen_pred_df.Category = y_unseen_pred_df.Category.astype(int)\n",
    "\n",
    "y_unseen_pred_df.to_csv(\"output.csv\")\n"
   ]
  },
  {
   "cell_type": "code",
   "execution_count": 19,
   "metadata": {},
   "outputs": [],
   "source": [
    "%run -i \"tfidf.py\""
   ]
  },
  {
   "cell_type": "code",
   "execution_count": null,
   "metadata": {},
   "outputs": [],
   "source": []
  }
 ],
 "metadata": {
  "kernelspec": {
   "display_name": "Python 3",
   "language": "python",
   "name": "python3"
  },
  "language_info": {
   "codemirror_mode": {
    "name": "ipython",
    "version": 3
   },
   "file_extension": ".py",
   "mimetype": "text/x-python",
   "name": "python",
   "nbconvert_exporter": "python",
   "pygments_lexer": "ipython3",
   "version": "3.8.5"
  }
 },
 "nbformat": 4,
 "nbformat_minor": 4
}

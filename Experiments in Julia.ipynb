{
 "cells": [
  {
   "cell_type": "code",
   "execution_count": 2,
   "metadata": {
    "scrolled": true
   },
   "outputs": [
    {
     "ename": "LoadError",
     "evalue": "UndefVarError: shuffle not defined",
     "output_type": "error",
     "traceback": [
      "UndefVarError: shuffle not defined",
      "",
      "Stacktrace:",
      " [1] top-level scope",
      "   @ In[2]:32",
      " [2] eval",
      "   @ .\\boot.jl:360 [inlined]",
      " [3] include_string(mapexpr::typeof(REPL.softscope), mod::Module, code::String, filename::String)",
      "   @ Base .\\loading.jl:1094"
     ]
    }
   ],
   "source": [
    "using CSV;\n",
    "using DataFrames;\n",
    "using Statistics;\n",
    "using Distributions;\n",
    "using Flux;\n",
    "using Flux: glorot_normal,glorot_uniform, logitcrossentropy;\n",
    "using Flux: @epochs;\n",
    "using LinearAlgebra: transpose;\n",
    "using Plots;\n",
    "\n",
    "df_fake = CSV.read(\"train_fake_bow.csv\",DataFrame);\n",
    "df_true = CSV.read(\"train_true_bow.csv\",DataFrame);\n",
    "\n",
    "df_test = CSV.read(\"test_bow.csv\",DataFrame);\n",
    "\n",
    "rename!(df_fake,[Symbol(\"col$i\") for i in 1:ncol(df_fake)]);\n",
    "rename!(df_true,[Symbol(\"col$i\") for i in 1:ncol(df_true)]);\n",
    "rename!(df_test,[Symbol(\"col$i\") for i in 1:ncol(df_test)]);\n",
    "\n",
    "num_fake = nrow(df_fake);\n",
    "num_true = nrow(df_true);\n",
    "\n",
    "col_fake = vec(ones(num_fake,1));\n",
    "col_true = vec(zeros(num_true,1));\n",
    "\n",
    "insertcols!(df_fake, ncol(df_fake)+1, :class=>col_fake);\n",
    "insertcols!(df_true, ncol(df_true)+1, :class=>col_true);\n",
    "\n",
    "df = append!(df_fake,df_true; cols =:orderequal);\n",
    "\n",
    "using Lathe.preprocess: TrainTestSplit\n",
    "train, test = TrainTestSplit(df,0.4);\n",
    "\n",
    "X_train = Array(train[:,1:ncol(df)-1]);\n",
    "y_train = vec(train[:,ncol(df)]);\n",
    "\n",
    "X_test = Array(test[:,1:ncol(df)-1]);\n",
    "y_test = vec(test[:,ncol(df)]);\n",
    "\n",
    "X_unseen = Array(df_test[:,1:ncol(df_test)]);\n",
    "\n",
    "num_features = ncol(df) - 1\n",
    "\n",
    "X_all = Array(df[:,1:ncol(df)-1])"
   ]
  },
  {
   "cell_type": "code",
   "execution_count": 1,
   "metadata": {},
   "outputs": [
    {
     "ename": "LoadError",
     "evalue": "UndefVarError: X_train not defined",
     "output_type": "error",
     "traceback": [
      "UndefVarError: X_train not defined",
      "",
      "Stacktrace:",
      " [1] top-level scope",
      "   @ In[1]:1",
      " [2] eval",
      "   @ .\\boot.jl:360 [inlined]",
      " [3] include_string(mapexpr::typeof(REPL.softscope), mod::Module, code::String, filename::String)",
      "   @ Base .\\loading.jl:1094"
     ]
    }
   ],
   "source": [
    "data, labels = transpose(X_all), y_train\n",
    "\n",
    "#define layers of neural net\n",
    "d1 = Dense(num_features, 500, sigmoid)\n",
    "d2 = Dense(500,84,sigmoid)\n",
    "d3 = Dense(84,1)\n",
    "\n",
    "m = Chain(d1,d2,d3)\n",
    "\n",
    "loss(x, y) = Flux.Losses.mse(m(x), y)\n",
    "\n",
    "ps = Flux.params(m)\n",
    "\n",
    "#optimiser\n",
    "opt = Descent(0.1)\n",
    "\n",
    "#training the model and calculate losses\n",
    "@epochs 3 Flux.train!(loss, ps, [(data,labels)], opt, cb = ()println(loss(data,labels)))\n",
    "\n",
    "result = m(transpose(X_unseen))\n",
    "result = vec(result)\n",
    "result = [v > 0.5 ? 1 : 0 for v in result]\n",
    "\n",
    "df_results = DataFrame(Category = result);\n",
    "df_results.Id = 1:22449\n",
    "\n",
    "df_results = df_results[!, [:Id, :Category]]\n",
    "\n",
    "CSV.write(\"Results.csv\", df_results);\n",
    "\n",
    "print(\"output ready\")"
   ]
  },
  {
   "cell_type": "code",
   "execution_count": null,
   "metadata": {},
   "outputs": [],
   "source": [
    "using Plots\n",
    "plot(1:epochs,loss_training)\n",
    "title!(\"Loss at training epoch\")"
   ]
  },
  {
   "cell_type": "code",
   "execution_count": 43,
   "metadata": {},
   "outputs": [
    {
     "data": {
      "text/plain": [
       "\"Results.csv\""
      ]
     },
     "execution_count": 43,
     "metadata": {},
     "output_type": "execute_result"
    }
   ],
   "source": [
    "result = m(transpose(X_unseen))\n",
    "result = vec(result)\n",
    "result = [v > 0.5 ? 1 : 0 for v in result]\n",
    "\n",
    "df_results = DataFrame(Category = result);\n",
    "df_results.Id = 1:22449\n",
    "\n",
    "df_results = df_results[!, [:Id, :Category]]\n",
    "\n",
    "CSV.write(\"Results.csv\", df_results);\n",
    "\n",
    "print(\"output ready\")"
   ]
  },
  {
   "cell_type": "code",
   "execution_count": null,
   "metadata": {},
   "outputs": [],
   "source": []
  }
 ],
 "metadata": {
  "kernelspec": {
   "display_name": "Julia 1.6.1",
   "language": "julia",
   "name": "julia-1.6"
  },
  "language_info": {
   "file_extension": ".jl",
   "mimetype": "application/julia",
   "name": "julia",
   "version": "1.6.1"
  }
 },
 "nbformat": 4,
 "nbformat_minor": 4
}

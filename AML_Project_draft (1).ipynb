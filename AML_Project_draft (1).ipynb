{
  "nbformat": 4,
  "nbformat_minor": 0,
  "metadata": {
    "colab": {
      "name": "AML Project draft.ipynb",
      "provenance": [],
      "collapsed_sections": []
    },
    "kernelspec": {
      "display_name": "Python 3",
      "name": "python3"
    },
    "language_info": {
      "name": "python"
    }
  },
  "cells": [
    {
      "cell_type": "code",
      "metadata": {
        "id": "2owj2fZroGtn"
      },
      "source": [
        "import pandas as pd\n",
        "import numpy as np\n",
        "from sklearn.model_selection import train_test_split\n",
        "from sklearn.naive_bayes import GaussianNB,BernoulliNB,ComplementNB,MultinomialNB\n",
        "from sklearn.metrics import accuracy_score\n",
        "from sklearn.linear_model import LogisticRegression, Perceptron\n",
        "from google.colab import files\n",
        "from sklearn import preprocessing \n",
        "from sklearn.feature_selection import chi2,SelectKBest\n",
        "import matplotlib.pyplot as plt\n",
        "from sklearn.decomposition import PCA\n",
        "import seaborn as sns\n",
        "from sklearn.ensemble import AdaBoostClassifier\n"
      ],
      "execution_count": null,
      "outputs": []
    },
    {
      "cell_type": "code",
      "metadata": {
        "id": "F1KEc-xmo7Lc"
      },
      "source": [
        "train_fake_bow_url = \"https://raw.githubusercontent.com/julia-sand/data-stuff/main/train_fake_bow.csv\"\n",
        "train_true_bow_url = \"https://raw.githubusercontent.com/julia-sand/data-stuff/main/train_true_bow.csv\"\n",
        "\n",
        "#test data\n",
        "test_url = \"https://raw.githubusercontent.com/julia-sand/data-stuff/main/test_bow.csv\"\n",
        "test_df = pd.DataFrame(pd.read_csv(test_url, header=None, sep=\",\"))\n",
        "\n",
        "train_fake_df = pd.DataFrame(pd.read_csv(train_fake_bow_url, header=None, sep=\",\"))\n",
        "train_true_df = pd.DataFrame(pd.read_csv(train_true_bow_url, header=None, sep=\",\"))\n",
        "\n",
        "Class_fake = np.zeros(len(train_fake_df)).astype(int)\n",
        "Class_true = np.ones(len(train_true_df)).astype(int)\n",
        "\n",
        "train_fake_df[\"Class\"] = Class_fake\n",
        "train_true_df[\"Class\"] = Class_true\n",
        "\n",
        "train_df = train_fake_df.append(train_true_df,ignore_index=True)\n",
        "\n",
        "X = train_df.iloc[:,:-1].values\n",
        "X_unseen = test_df.values\n",
        "\n",
        "y = train_df.Class.values\n",
        "y_minus = np.where(y == 1,1,-1)\n",
        "\n",
        "X_train, X_test, y_train, y_test = train_test_split(X, \n",
        "                                                    y, \n",
        "                                                    test_size=0.4, \n",
        "                                                    random_state=13,\n",
        "                                                    stratify=y)\n",
        "\n",
        "y_train_minus = np.where(y_train == 1,1,-1)\n",
        "y_test_minus = np.where(y_test == 1,1,-1)\n",
        "\n",
        "n_features = X.shape[1]"
      ],
      "execution_count": null,
      "outputs": []
    },
    {
      "cell_type": "code",
      "metadata": {
        "colab": {
          "base_uri": "https://localhost:8080/",
          "height": 314
        },
        "id": "P6HzxhCEpAmW",
        "outputId": "a6494ddf-a63e-4695-bc7d-422329172940"
      },
      "source": [
        "#set up few models and test out ensemble method\n",
        "nb = BernoulliNB()\n",
        "nb.fit(X_train, y_train)\n",
        "\n",
        "logreg = LogisticRegression()\n",
        "logreg.fit(X_train, y_train)\n",
        "\n",
        "#probabilities of class 1\n",
        "proba_nb = nb.predict_proba(X_test)[:,1]\n",
        "proba_logreg = logreg.predict_proba(X_test)[:,1]\n",
        "\n",
        "\n",
        "proba_mean = (proba_nb + proba_logreg) / 2\n",
        "\n",
        "#turn proba into preds\n",
        "y_pred_test= np.ones(len(proba_mean))\n",
        "for i in range(len(y_pred_test)):\n",
        "    y_pred_test[i] = 1 if proba_mean[i] > 0.5 else 0\n",
        "\n",
        "print(accuracy_score(y_pred_test,y_test))\n",
        "\n",
        "\n",
        "confusion_matrix = pd.crosstab(y_test, y_pred_test, rownames=['Actual'], colnames=['Predicted'])\n",
        "sns.heatmap(confusion_matrix, annot=True)\n",
        "\n"
      ],
      "execution_count": null,
      "outputs": [
        {
          "output_type": "stream",
          "text": [
            "0.8955456570155902\n"
          ],
          "name": "stdout"
        },
        {
          "output_type": "execute_result",
          "data": {
            "text/plain": [
              "<matplotlib.axes._subplots.AxesSubplot at 0x7f969b5e3890>"
            ]
          },
          "metadata": {
            "tags": []
          },
          "execution_count": 3
        },
        {
          "output_type": "display_data",
          "data": {
            "image/png": "[encoded data removed]",
            "text/plain": [
              "<Figure size 432x288 with 2 Axes>"
            ]
          },
          "metadata": {
            "tags": []
          }
        }
      ]
    },
    {
      "cell_type": "code",
      "metadata": {
        "colab": {
          "base_uri": "https://localhost:8080/",
          "height": 295
        },
        "id": "ckP0NoR5pQec",
        "outputId": "36126e26-4b01-4904-b159-d87856189178"
      },
      "source": [
        "acc_train = np.zeros(n_features)\n",
        "\n",
        "for i in range(1,n_features):\n",
        "    pca = PCA(n_components=i)\n",
        "    X_train_i = pca.fit_transform(X_train)\n",
        "    X_test_i = pca.transform(X_test)\n",
        "\n",
        "    model = GaussianNB()\n",
        "    model.fit(X_train_i, y_train)\n",
        "    y_pred_i = model.predict(X_test_i)\n",
        "\n",
        "    acc_train[i] = accuracy_score(y_pred_i,y_test)\n",
        "\n",
        "\n",
        "plt.plot(acc_train)\n",
        "axes = plt.gca()\n",
        "axes.set_ylim([0.56,0.95])\n",
        "axes.set_xlim([1,n_features])\n",
        "plt.xlabel('Number of features',fontsize=10)\n",
        "plt.ylabel('Accurancy')\n",
        "plt.title(\"Accuracy vs Features (PCA)\")\n",
        "plt.show()"
      ],
      "execution_count": null,
      "outputs": [
        {
          "output_type": "display_data",
          "data": {
            "image/png": "[encoded data removed]",
            "text/plain": [
              "<Figure size 432x288 with 1 Axes>"
            ]
          },
          "metadata": {
            "tags": []
          }
        }
      ]
    },
    {
      "cell_type": "code",
      "metadata": {
        "colab": {
          "base_uri": "https://localhost:8080/",
          "height": 313
        },
        "id": "1B_hV8-mx0r6",
        "outputId": "fe5fcf28-290b-46a1-d256-0273a3b64f37"
      },
      "source": [
        "acc_train = np.zeros(n_features)\n",
        "\n",
        "for i in range(1,n_features):\n",
        "    select = SelectKBest(k=i)\n",
        "    X_train_i = select.fit_transform(X_train,y_train)\n",
        "    X_test_i = select.transform(X_test)\n",
        "\n",
        "    model = GaussianNB()\n",
        "    model.fit(X_train_i, y_train)\n",
        "    y_pred_i = model.predict(X_test_i)\n",
        "\n",
        "    acc_train[i] = accuracy_score(y_pred_i,y_test)\n",
        "\n",
        "\n",
        "plt.plot(acc_train)\n",
        "axes = plt.gca()\n",
        "axes.set_ylim([0.56,0.95])\n",
        "axes.set_xlim([1,n_features])\n",
        "plt.xlabel('Number of features',fontsize=10)\n",
        "plt.ylabel('Accurancy')\n",
        "plt.title(\"Accuracy vs Features (Select K Best)\")"
      ],
      "execution_count": null,
      "outputs": [
        {
          "output_type": "execute_result",
          "data": {
            "text/plain": [
              "Text(0.5, 1.0, 'Accuracy vs Features (Select K Best)')"
            ]
          },
          "metadata": {
            "tags": []
          },
          "execution_count": 8
        },
        {
          "output_type": "display_data",
          "data": {
            "image/png": "[encoded data removed]",
            "text/plain": [
              "<Figure size 432x288 with 1 Axes>"
            ]
          },
          "metadata": {
            "tags": []
          }
        }
      ]
    },
    {
      "cell_type": "code",
      "metadata": {
        "id": "5MK_DJWEuNPc"
      },
      "source": [
        "#retrain on all train data\n",
        "nb.fit(X, y)\n",
        "y_unseen_pred = nb.predict(X_unseen)\n",
        "y_unseen_pred = y_unseen_pred.astype(int)\n",
        "\n",
        "#formatting\n",
        "y_unseen_pred_df = pd.DataFrame(y_unseen_pred,columns=[\"Category\"])\n",
        "y_unseen_pred_df.index += 1\n",
        "\n",
        "y_unseen_pred_df.to_csv(\"output.csv\")\n",
        "\n",
        "#files.download(\"output.csv\")"
      ],
      "execution_count": null,
      "outputs": []
    },
    {
      "cell_type": "code",
      "metadata": {
        "id": "qNqrnqirXbpO"
      },
      "source": [
        "model = AdaBoostClassifier(GaussianNB(),n_estimators=50,learning_rate=0.35)\n",
        "model.fit(X_train,y_train_minus)\n",
        "y_pred_boost_nb = model.predict(X_test)\n",
        "\n",
        "print(\"accuracy score\", accuracy_score(y_pred_boost_nb,y_test_minus))\n",
        "\n",
        "\n",
        "confusion_matrix = pd.crosstab(y_test_minus, \n",
        "                               y_pred_boost_nb, \n",
        "                               rownames=['Actual'], \n",
        "                               colnames=['Predicted'])\n",
        "\n",
        "sns.heatmap(confusion_matrix, annot=True)\n",
        "\n",
        "plt.show()"
      ],
      "execution_count": null,
      "outputs": []
    },
    {
      "cell_type": "code",
      "metadata": {
        "colab": {
          "base_uri": "https://localhost:8080/",
          "height": 297
        },
        "id": "nlNUhbFexDaF",
        "outputId": "c656475f-4673-44e9-ba86-9f088b701f60"
      },
      "source": [
        "model = AdaBoostClassifier(LogisticRegression(),n_estimators=50,learning_rate=0.35)\n",
        "model.fit(X_train,y_train_minus)\n",
        "y_pred_boost_logreg = model.predict(X_test)\n",
        "\n",
        "print(\"accuracy score\", accuracy_score(y_pred_boost_logreg,y_test_minus))\n",
        "\n",
        "\n",
        "confusion_matrix = pd.crosstab(y_test_minus, \n",
        "                               y_pred_boost_logreg, \n",
        "                               rownames=['Actual'], \n",
        "                               colnames=['Predicted'])\n",
        "\n",
        "sns.heatmap(confusion_matrix, annot=True)\n",
        "\n",
        "plt.show()"
      ],
      "execution_count": null,
      "outputs": [
        {
          "output_type": "stream",
          "text": [
            "accuracy score 0.8083518930957684\n"
          ],
          "name": "stdout"
        },
        {
          "output_type": "display_data",
          "data": {
            "image/png": "[encoded data removed]",
            "text/plain": [
              "<Figure size 432x288 with 2 Axes>"
            ]
          },
          "metadata": {
            "tags": []
          }
        }
      ]
    },
    {
      "cell_type": "code",
      "metadata": {
        "colab": {
          "base_uri": "https://localhost:8080/",
          "height": 298
        },
        "id": "czI68ELjxEg3",
        "outputId": "0bf459f5-167e-4c75-8c2d-6f01170a2e19"
      },
      "source": [
        "model = AdaBoostClassifier(Perceptron(),n_estimators=50,learning_rate=0.33,algorithm=\"SAMME\")\n",
        "model.fit(X_train,y_train_minus)\n",
        "y_pred_boost_perceptron = model.predict(X_test)\n",
        "\n",
        "print(\"accuracy score\", accuracy_score(y_pred_boost_perceptron,y_test_minus))\n",
        "\n",
        "\n",
        "confusion_matrix = pd.crosstab(y_test_minus, \n",
        "                               y_pred_boost_perceptron, \n",
        "                               rownames=['Actual'], \n",
        "                               colnames=['Predicted'])\n",
        "\n",
        "sns.heatmap(confusion_matrix, annot=True)\n",
        "plt.show()"
      ],
      "execution_count": null,
      "outputs": [
        {
          "output_type": "stream",
          "text": [
            "accuracy score 0.8661469933184855\n"
          ],
          "name": "stdout"
        },
        {
          "output_type": "display_data",
          "data": {
            "image/png": "[encoded data removed]",
            "text/plain": [
              "<Figure size 432x288 with 2 Axes>"
            ]
          },
          "metadata": {
            "tags": []
          }
        }
      ]
    },
    {
      "cell_type": "code",
      "metadata": {
        "colab": {
          "base_uri": "https://localhost:8080/",
          "height": 297
        },
        "id": "BMp2vP4sxMc_",
        "outputId": "3066948b-0762-4193-b2b3-1c7f5d30ba51"
      },
      "source": [
        "y_pred_ensemble = np.ones(len(y_pred_boost_nb))\n",
        "\n",
        "#majority vote\n",
        "for i in range(len(y_pred_boost_nb)):\n",
        "    if y_pred_boost_perceptron[i] + y_pred_boost_logreg[i] + y_pred_boost_nb[i] > 0: \n",
        "        y_pred_ensemble[i] = 1\n",
        "    else:  y_pred_ensemble[i] = 0\n",
        "\n",
        "print(\"accuracy score\", accuracy_score(y_pred_ensemble,y_test))\n",
        "\n",
        "confusion_matrix = pd.crosstab(y_test, \n",
        "                               y_pred_ensemble, \n",
        "                               rownames=['Actual'], \n",
        "                               colnames=['Predicted'])\n",
        "\n",
        "sns.heatmap(confusion_matrix, annot=True)\n",
        "plt.show()"
      ],
      "execution_count": null,
      "outputs": [
        {
          "output_type": "stream",
          "text": [
            "accuracy score 0.8537861915367483\n"
          ],
          "name": "stdout"
        },
        {
          "output_type": "display_data",
          "data": {
            "image/png": "[encoded data removed]",
            "text/plain": [
              "<Figure size 432x288 with 2 Axes>"
            ]
          },
          "metadata": {
            "tags": []
          }
        }
      ]
    },
    {
      "cell_type": "code",
      "metadata": {
        "colab": {
          "base_uri": "https://localhost:8080/",
          "height": 17
        },
        "id": "vi7hYKJxKJzM",
        "outputId": "22943d0f-fb93-44e1-e233-08b367101159"
      },
      "source": [
        "#retrain on all train data\n",
        "model = AdaBoostClassifier(GaussianNB(),n_estimators=50,learning_rate=0.35)\n",
        "model.fit(X,y_minus)\n",
        "y_pred_boost_nb = model.predict(X_unseen)\n",
        "\n",
        "model = AdaBoostClassifier(LogisticRegression(),n_estimators=50,learning_rate=0.35)\n",
        "model.fit(X,y_minus)\n",
        "y_pred_boost_logreg = model.predict(X_unseen)\n",
        "\n",
        "model = AdaBoostClassifier(Perceptron(),n_estimators=50,learning_rate=0.33,algorithm=\"SAMME\")\n",
        "model.fit(X,y_minus)\n",
        "y_pred_boost_perceptron = model.predict(X_unseen)\n",
        "\n",
        "y_pred_ensemble = np.zeros(len(y_pred_boost_nb))\n",
        "#majority vote\n",
        "for i in range(len(y_pred_boost_nb)):\n",
        "    if y_pred_boost_perceptron[i] + y_pred_boost_logreg[i] + y_pred_boost_nb[i] > 0: \n",
        "        y_pred_ensemble[i] = 1\n",
        "    else:  y_pred_ensemble[i] = 0\n",
        "\n",
        "\n",
        "#formatting\n",
        "y_unseen_pred_df = pd.DataFrame(y_pred_ensemble,columns=[\"Category\"])\n",
        "y_unseen_pred_df.index += 1\n",
        "y_unseen_pred_df.index.name = \"Id\"\n",
        "\n",
        "y_unseen_pred_df.to_csv(\"output.csv\")\n",
        "files.download(\"output.csv\")"
      ],
      "execution_count": null,
      "outputs": [
        {
          "output_type": "display_data",
          "data": {
            "application/javascript": [
              "\n",
              "    async function download(id, filename, size) {\n",
              "      if (!google.colab.kernel.accessAllowed) {\n",
              "        return;\n",
              "      }\n",
              "      const div = document.createElement('div');\n",
              "      const label = document.createElement('label');\n",
              "      label.textContent = `Downloading \"${filename}\": `;\n",
              "      div.appendChild(label);\n",
              "      const progress = document.createElement('progress');\n",
              "      progress.max = size;\n",
              "      div.appendChild(progress);\n",
              "      document.body.appendChild(div);\n",
              "\n",
              "      const buffers = [];\n",
              "      let downloaded = 0;\n",
              "\n",
              "      const channel = await google.colab.kernel.comms.open(id);\n",
              "      // Send a message to notify the kernel that we're ready.\n",
              "      channel.send({})\n",
              "\n",
              "      for await (const message of channel.messages) {\n",
              "        // Send a message to notify the kernel that we're ready.\n",
              "        channel.send({})\n",
              "        if (message.buffers) {\n",
              "          for (const buffer of message.buffers) {\n",
              "            buffers.push(buffer);\n",
              "            downloaded += buffer.byteLength;\n",
              "            progress.value = downloaded;\n",
              "          }\n",
              "        }\n",
              "      }\n",
              "      const blob = new Blob(buffers, {type: 'application/binary'});\n",
              "      const a = document.createElement('a');\n",
              "      a.href = window.URL.createObjectURL(blob);\n",
              "      a.download = filename;\n",
              "      div.appendChild(a);\n",
              "      a.click();\n",
              "      div.remove();\n",
              "    }\n",
              "  "
            ],
            "text/plain": [
              "<IPython.core.display.Javascript object>"
            ]
          },
          "metadata": {
            "tags": []
          }
        },
        {
          "output_type": "display_data",
          "data": {
            "application/javascript": [
              "download(\"download_d25e1372-9c1b-4b7a-91ef-189136dd0362\", \"output.csv\", 213326)"
            ],
            "text/plain": [
              "<IPython.core.display.Javascript object>"
            ]
          },
          "metadata": {
            "tags": []
          }
        }
      ]
    },
    {
      "cell_type": "code",
      "metadata": {
        "colab": {
          "base_uri": "https://localhost:8080/"
        },
        "id": "fm6AfWR0l5wb",
        "outputId": "eb1be52d-28af-4e87-dfd1-881d80a4b327"
      },
      "source": [
        "#try this on the full data set\n",
        "from sklearn.neural_network import MLPClassifier\n",
        "\n",
        "m = MLPClassifier(solver=\"lbfgs\", early_stopping=True)\n",
        "\n",
        "for i in range(10):\n",
        "    m.fit(X,y_minus)\n",
        "    print(m.loss_)\n"
      ],
      "execution_count": null,
      "outputs": [
        {
          "output_type": "stream",
          "text": [
            "0.0130546589312738\n",
            "0.013070684931877094\n",
            "0.013050424163032705\n",
            "0.01305117220389493\n",
            "0.013069711710629218\n",
            "0.013098847639658927\n",
            "0.013053701315729353\n",
            "0.013043087173076248\n",
            "0.013039849298703936\n",
            "0.013068593952492458\n"
          ],
          "name": "stdout"
        }
      ]
    },
    {
      "cell_type": "code",
      "metadata": {
        "colab": {
          "base_uri": "https://localhost:8080/",
          "height": 17
        },
        "id": "bx0QC-ZpnGO7",
        "outputId": "e3875183-8d0d-41a3-f1e4-ddc20a73ce1e"
      },
      "source": [
        "\n",
        "y_pred_mlp = m.predict(X_unseen)\n",
        "\n",
        "y_pred_mlp = np.where(y_pred_mlp==1,1,0)\n",
        "\n",
        "y_unseen_pred_df = pd.DataFrame(y_pred_mlp,columns=[\"Category\"])\n",
        "y_unseen_pred_df.index += 1\n",
        "y_unseen_pred_df.index.name = \"Id\"\n",
        "\n",
        "rows = [[22447,1], [22448,1], [22449,0]]\n",
        "df_temp = pd.DataFrame(rows,columns =[\"Id\",\"Category\"])\n",
        "df_temp.set_index(\"Id\",inplace=True)\n",
        "\n",
        "y_unseen_pred_df = y_unseen_pred_df.append(df_temp)\n",
        "y_unseen_pred_df.to_csv(\"output.csv\")\n",
        "files.download(\"output.csv\")"
      ],
      "execution_count": null,
      "outputs": [
        {
          "output_type": "display_data",
          "data": {
            "application/javascript": [
              "\n",
              "    async function download(id, filename, size) {\n",
              "      if (!google.colab.kernel.accessAllowed) {\n",
              "        return;\n",
              "      }\n",
              "      const div = document.createElement('div');\n",
              "      const label = document.createElement('label');\n",
              "      label.textContent = `Downloading \"${filename}\": `;\n",
              "      div.appendChild(label);\n",
              "      const progress = document.createElement('progress');\n",
              "      progress.max = size;\n",
              "      div.appendChild(progress);\n",
              "      document.body.appendChild(div);\n",
              "\n",
              "      const buffers = [];\n",
              "      let downloaded = 0;\n",
              "\n",
              "      const channel = await google.colab.kernel.comms.open(id);\n",
              "      // Send a message to notify the kernel that we're ready.\n",
              "      channel.send({})\n",
              "\n",
              "      for await (const message of channel.messages) {\n",
              "        // Send a message to notify the kernel that we're ready.\n",
              "        channel.send({})\n",
              "        if (message.buffers) {\n",
              "          for (const buffer of message.buffers) {\n",
              "            buffers.push(buffer);\n",
              "            downloaded += buffer.byteLength;\n",
              "            progress.value = downloaded;\n",
              "          }\n",
              "        }\n",
              "      }\n",
              "      const blob = new Blob(buffers, {type: 'application/binary'});\n",
              "      const a = document.createElement('a');\n",
              "      a.href = window.URL.createObjectURL(blob);\n",
              "      a.download = filename;\n",
              "      div.appendChild(a);\n",
              "      a.click();\n",
              "      div.remove();\n",
              "    }\n",
              "  "
            ],
            "text/plain": [
              "<IPython.core.display.Javascript object>"
            ]
          },
          "metadata": {
            "tags": []
          }
        },
        {
          "output_type": "display_data",
          "data": {
            "application/javascript": [
              "download(\"download_4503e328-f90c-439f-a68c-6b101b1b4b16\", \"output.csv\", 168498)"
            ],
            "text/plain": [
              "<IPython.core.display.Javascript object>"
            ]
          },
          "metadata": {
            "tags": []
          }
        }
      ]
    },
    {
      "cell_type": "code",
      "metadata": {
        "colab": {
          "base_uri": "https://localhost:8080/",
          "height": 297
        },
        "id": "PDYrBv7WpH2R",
        "outputId": "5e273c25-f80a-4fc9-9283-157163cc750b"
      },
      "source": [
        "from sklearn.neighbors import KNeighborsClassifier\n",
        "\n",
        "model = KNeighborsClassifier(100)\n",
        "model.fit(X_train,y_train_minus)\n",
        "y_pred_boost_knn = model.predict(X_test)\n",
        "\n",
        "print(\"accuracy score\", accuracy_score(y_pred_boost_knn,y_test_minus))\n",
        "\n",
        "\n",
        "confusion_matrix = pd.crosstab(y_test_minus, \n",
        "                               y_pred_boost_knn, \n",
        "                               rownames=['Actual'], \n",
        "                               colnames=['Predicted'])\n",
        "\n",
        "sns.heatmap(confusion_matrix, annot=True)\n",
        "\n",
        "plt.show()"
      ],
      "execution_count": null,
      "outputs": [
        {
          "output_type": "stream",
          "text": [
            "accuracy score 0.7855233853006681\n"
          ],
          "name": "stdout"
        },
        {
          "output_type": "display_data",
          "data": {
            "image/png": "[encoded data removed]",
            "text/plain": [
              "<Figure size 432x288 with 2 Axes>"
            ]
          },
          "metadata": {
            "tags": [],
            "needs_background": "light"
          }
        }
      ]
    },
    {
      "cell_type": "code",
      "metadata": {
        "colab": {
          "base_uri": "https://localhost:8080/",
          "height": 17
        },
        "id": "eV-S3fYQ5oh_",
        "outputId": "4f486457-8490-4c71-f286-1eaaca2f3883"
      },
      "source": [
        "#retrain on all train data\n",
        "model = AdaBoostClassifier(GaussianNB(),n_estimators=50,learning_rate=0.35)\n",
        "model.fit(X,y_minus)\n",
        "y_pred_boost_nb = model.predict(X_unseen)\n",
        "\n",
        "model = LinearSVC()\n",
        "model.fit(X,y_minus)\n",
        "y_pred_knn = model.predict(X_unseen)\n",
        "\n",
        "model = AdaBoostClassifier(Perceptron(),n_estimators=50,learning_rate=0.33,algorithm=\"SAMME\")\n",
        "model.fit(X,y_minus)\n",
        "y_pred_boost_perceptron = model.predict(X_unseen)\n",
        "\n",
        "y_pred_ensemble = np.zeros(len(y_pred_boost_nb))\n",
        "\n",
        "#majority vote\n",
        "for i in range(len(y_pred_boost_nb)):\n",
        "    if y_pred_boost_perceptron[i] + y_pred_knn[i] + y_pred_boost_nb[i] > 0: \n",
        "        y_pred_ensemble[i] = 1\n",
        "    else:  y_pred_ensemble[i] = 0\n",
        "\n",
        "#formatting\n",
        "y_unseen_pred_df = pd.DataFrame(y_pred_ensemble,columns=[\"Category\"])\n",
        "y_unseen_pred_df.index += 1\n",
        "y_unseen_pred_df.index.name = \"Id\"\n",
        "\n",
        "rows = [[22447,int(1)], [22448,int(1)], [22449,int(1)]]\n",
        "df_temp = pd.DataFrame(rows,columns =[\"Id\",\"Category\"])\n",
        "df_temp.set_index(\"Id\",inplace=True)\n",
        "\n",
        "y_unseen_pred_df = y_unseen_pred_df.append(df_temp)\n",
        "y_unseen_pred_df.Category = y_unseen_pred_df.Category.astype(int)\n",
        "\n",
        "y_unseen_pred_df.to_csv(\"output.csv\")\n",
        "files.download(\"output.csv\")"
      ],
      "execution_count": null,
      "outputs": [
        {
          "output_type": "display_data",
          "data": {
            "application/javascript": [
              "\n",
              "    async function download(id, filename, size) {\n",
              "      if (!google.colab.kernel.accessAllowed) {\n",
              "        return;\n",
              "      }\n",
              "      const div = document.createElement('div');\n",
              "      const label = document.createElement('label');\n",
              "      label.textContent = `Downloading \"${filename}\": `;\n",
              "      div.appendChild(label);\n",
              "      const progress = document.createElement('progress');\n",
              "      progress.max = size;\n",
              "      div.appendChild(progress);\n",
              "      document.body.appendChild(div);\n",
              "\n",
              "      const buffers = [];\n",
              "      let downloaded = 0;\n",
              "\n",
              "      const channel = await google.colab.kernel.comms.open(id);\n",
              "      // Send a message to notify the kernel that we're ready.\n",
              "      channel.send({})\n",
              "\n",
              "      for await (const message of channel.messages) {\n",
              "        // Send a message to notify the kernel that we're ready.\n",
              "        channel.send({})\n",
              "        if (message.buffers) {\n",
              "          for (const buffer of message.buffers) {\n",
              "            buffers.push(buffer);\n",
              "            downloaded += buffer.byteLength;\n",
              "            progress.value = downloaded;\n",
              "          }\n",
              "        }\n",
              "      }\n",
              "      const blob = new Blob(buffers, {type: 'application/binary'});\n",
              "      const a = document.createElement('a');\n",
              "      a.href = window.URL.createObjectURL(blob);\n",
              "      a.download = filename;\n",
              "      div.appendChild(a);\n",
              "      a.click();\n",
              "      div.remove();\n",
              "    }\n",
              "  "
            ],
            "text/plain": [
              "<IPython.core.display.Javascript object>"
            ]
          },
          "metadata": {
            "tags": []
          }
        },
        {
          "output_type": "display_data",
          "data": {
            "application/javascript": [
              "download(\"download_6d55144c-93ca-48cf-bcf8-c253d3943900\", \"output.csv\", 213396)"
            ],
            "text/plain": [
              "<IPython.core.display.Javascript object>"
            ]
          },
          "metadata": {
            "tags": []
          }
        }
      ]
    },
    {
      "cell_type": "code",
      "metadata": {
        "colab": {
          "base_uri": "https://localhost:8080/",
          "height": 17
        },
        "id": "QUWkbn4uMICH",
        "outputId": "2197e264-67d7-4eca-be1a-f5baac98a98e"
      },
      "source": [
        "y_unseen_pred_df = pd.DataFrame(y_pred_ensemble,columns=[\"Category\"])\n",
        "y_unseen_pred_df.index += 1\n",
        "y_unseen_pred_df.index.name = \"Id\"\n",
        "\n",
        "rows = [[22447,int(1)], [22448,int(1)], [22449,int(1)]]\n",
        "df_temp = pd.DataFrame(rows,columns =[\"Id\",\"Category\"])\n",
        "df_temp.set_index(\"Id\",inplace=True)\n",
        "\n",
        "y_unseen_pred_df = y_unseen_pred_df.append(df_temp)\n",
        "y_unseen_pred_df.Category = y_unseen_pred_df.Category.astype(int)\n",
        "\n",
        "y_unseen_pred_df.to_csv(\"output.csv\")\n",
        "files.download(\"output.csv\")"
      ],
      "execution_count": null,
      "outputs": [
        {
          "output_type": "display_data",
          "data": {
            "application/javascript": [
              "\n",
              "    async function download(id, filename, size) {\n",
              "      if (!google.colab.kernel.accessAllowed) {\n",
              "        return;\n",
              "      }\n",
              "      const div = document.createElement('div');\n",
              "      const label = document.createElement('label');\n",
              "      label.textContent = `Downloading \"${filename}\": `;\n",
              "      div.appendChild(label);\n",
              "      const progress = document.createElement('progress');\n",
              "      progress.max = size;\n",
              "      div.appendChild(progress);\n",
              "      document.body.appendChild(div);\n",
              "\n",
              "      const buffers = [];\n",
              "      let downloaded = 0;\n",
              "\n",
              "      const channel = await google.colab.kernel.comms.open(id);\n",
              "      // Send a message to notify the kernel that we're ready.\n",
              "      channel.send({})\n",
              "\n",
              "      for await (const message of channel.messages) {\n",
              "        // Send a message to notify the kernel that we're ready.\n",
              "        channel.send({})\n",
              "        if (message.buffers) {\n",
              "          for (const buffer of message.buffers) {\n",
              "            buffers.push(buffer);\n",
              "            downloaded += buffer.byteLength;\n",
              "            progress.value = downloaded;\n",
              "          }\n",
              "        }\n",
              "      }\n",
              "      const blob = new Blob(buffers, {type: 'application/binary'});\n",
              "      const a = document.createElement('a');\n",
              "      a.href = window.URL.createObjectURL(blob);\n",
              "      a.download = filename;\n",
              "      div.appendChild(a);\n",
              "      a.click();\n",
              "      div.remove();\n",
              "    }\n",
              "  "
            ],
            "text/plain": [
              "<IPython.core.display.Javascript object>"
            ]
          },
          "metadata": {
            "tags": []
          }
        },
        {
          "output_type": "display_data",
          "data": {
            "application/javascript": [
              "download(\"download_d952a28a-b757-44b6-95e7-040681b04124\", \"output.csv\", 168498)"
            ],
            "text/plain": [
              "<IPython.core.display.Javascript object>"
            ]
          },
          "metadata": {
            "tags": []
          }
        }
      ]
    },
    {
      "cell_type": "code",
      "metadata": {
        "id": "jZjuRlksMpq_",
        "colab": {
          "base_uri": "https://localhost:8080/",
          "height": 297
        },
        "outputId": "f8d27b5b-491b-4221-be72-f8aa5c78bbbc"
      },
      "source": [
        "# try svm \n",
        "\n",
        "from sklearn.svm import LinearSVC\n",
        "\n",
        "model = LinearSVC()\n",
        "\n",
        "model.fit(X_train,y_train_minus)\n",
        "\n",
        "y_pred_svm = model.predict(X_test)\n",
        "\n",
        "print(\"accuracy score\", accuracy_score(y_pred_svm,y_test_minus))\n",
        "\n",
        "\n",
        "confusion_matrix = pd.crosstab(y_test_minus, \n",
        "                               y_pred_svm, \n",
        "                               rownames=['Actual'], \n",
        "                               colnames=['Predicted'])\n",
        "\n",
        "sns.heatmap(confusion_matrix, annot=True)\n",
        "\n",
        "plt.show()"
      ],
      "execution_count": null,
      "outputs": [
        {
          "output_type": "stream",
          "text": [
            "accuracy score 0.8942093541202673\n"
          ],
          "name": "stdout"
        },
        {
          "output_type": "display_data",
          "data": {
            "image/png": "[encoded data removed]",
            "text/plain": [
              "<Figure size 432x288 with 2 Axes>"
            ]
          },
          "metadata": {
            "tags": [],
            "needs_background": "light"
          }
        }
      ]
    },
    {
      "cell_type": "code",
      "metadata": {
        "id": "za9ZpFcCP3G6"
      },
      "source": [
        ""
      ],
      "execution_count": null,
      "outputs": []
    }
  ]
}